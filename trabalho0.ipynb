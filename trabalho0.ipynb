{
 "cells": [
  {
   "cell_type": "markdown",
   "metadata": {},
   "source": [
    "*Abrir o ficheiro txt com os artigos.*"
   ]
  },
  {
   "cell_type": "code",
   "execution_count": 4,
   "metadata": {},
   "outputs": [],
   "source": [
    "import re\n",
    "\n",
    "Nome = \"folha.txt\"\n",
    "txt = open(Nome, encoding=\"UTF-8\").read()"
   ]
  },
  {
   "cell_type": "markdown",
   "metadata": {},
   "source": [
    "*Calcular o número de publicações.*"
   ]
  },
  {
   "cell_type": "code",
   "execution_count": 2,
   "metadata": {},
   "outputs": [
    {
     "name": "stdout",
     "output_type": "stream",
     "text": [
      "O número de publicações é: 8768\n"
     ]
    }
   ],
   "source": [
    "conteudo = txt\n",
    "\n",
    "# Contagem das publicações\n",
    "numero_publicacoes = conteudo.count('#DATE')\n",
    "print(f'O número de publicações é: {numero_publicacoes}')"
   ]
  },
  {
   "cell_type": "markdown",
   "metadata": {},
   "source": [
    "*Calcular a gama de datas incluídas no ficheiro, armazenando-as num ficheiro externo.*"
   ]
  },
  {
   "cell_type": "code",
   "execution_count": 6,
   "metadata": {},
   "outputs": [
    {
     "name": "stdout",
     "output_type": "stream",
     "text": [
      "Total de datas encontradas: 8746\n"
     ]
    }
   ],
   "source": [
    "import re\n",
    "\n",
    "# Supondo que você tem o conteúdo do arquivo na variável \"conteudo\"\n",
    "conteudo = txt\n",
    "\n",
    "def tagsOco(texto, output):\n",
    "    with open(texto, 'r', encoding='utf-8') as file:\n",
    "        noticias = file.read()\n",
    "    noticias = noticias.replace('\\n', ' ')    \n",
    "    tagOco = re.findall(r'tag:{([^}]+)}'), noticias\n",
    "\n",
    "# Encontrar todas as datas no formato \"11 de Dezembro de 2014\" precedidas por \"#DATE: [116eb] Redacção F8 —\"\n",
    "padrao = r'#DATE: \\[116eb\\] Redacção F8 — (\\d{1,2} de [A-ZÁ-Ú][a-zçé]+ de \\d{4})'\n",
    "datas_encontradas = re.findall(padrao, conteudo)\n",
    "\n",
    "# Contar o número de datas encontradas\n",
    "numero_de_datas = len(datas_encontradas)\n",
    "print(f\"Total de datas encontradas: {numero_de_datas}\")\n",
    "\n",
    "# Escrever os resultados no arquivo \"datas.txt\"\n",
    "with open('datas.txt', 'w') as arquivo:\n",
    "    arquivo.write(f\"Total de datas encontradas: {numero_de_datas}\\n\")\n",
    "    for data in datas_encontradas:\n",
    "        arquivo.write(f\"Data encontrada: {data}\\n\")"
   ]
  },
  {
   "cell_type": "markdown",
   "metadata": {},
   "source": [
    "*Exibir a data mais antiga e a data mais recente.*"
   ]
  },
  {
   "cell_type": "code",
   "execution_count": 5,
   "metadata": {},
   "outputs": [
    {
     "name": "stdout",
     "output_type": "stream",
     "text": [
      "Data mais antiga: 2014-09-21\n",
      "Data mais recente: 2018-01-08\n"
     ]
    }
   ],
   "source": [
    "conteudo = txt\n",
    "\n",
    "\n",
    "# Encontrar todas as datas no formato \"11 de Dezembro de 2014\" precedidas por \"#DATE: [116eb] Redacção F8 —\"\n",
    "padrao = r'#DATE: \\[116eb\\] Redacção F8 — (\\d{1,2} de [A-ZÁ-Ú][a-zçé]+ de \\d{4})'\n",
    "datas_encontradas = re.findall(padrao, conteudo)\n",
    "\n",
    "# Função para converter datas para um formato numérico\n",
    "def converter_para_numero(data):\n",
    "    meses = {\n",
    "        'Janeiro': 1, 'Fevereiro': 2, 'Março': 3, 'Abril': 4, 'Maio': 5, 'Junho': 6,\n",
    "        'Julho': 7, 'Agosto': 8, 'Setembro': 9, 'Outubro': 10, 'Novembro': 11, 'Dezembro': 12\n",
    "    }\n",
    "    partes = data.split()\n",
    "    dia = int(partes[0])\n",
    "    mes = meses[partes[2]]\n",
    "    ano = int(partes[4])\n",
    "    return ano * 10000 + mes * 100 + dia\n",
    "\n",
    "# Converter datas encontradas para formato numérico e encontrar a mais antiga e a mais recente\n",
    "if datas_encontradas:\n",
    "    datas_convertidas = [converter_para_numero(data) for data in datas_encontradas]\n",
    "    data_mais_antiga = min(datas_convertidas)\n",
    "    data_mais_recente = max(datas_convertidas)\n",
    "\n",
    "    # Exibir a data mais antiga e mais recente\n",
    "    print(\"Data mais antiga:\", f\"{data_mais_antiga // 10000}-{(data_mais_antiga // 100) % 100:02d}-{data_mais_antiga % 100:02d}\")\n",
    "    print(\"Data mais recente:\", f\"{data_mais_recente // 10000}-{(data_mais_recente // 100) % 100:02d}-{data_mais_recente % 100:02d}\")\n",
    "else:\n",
    "    print(\"Nenhuma data encontrada.\")"
   ]
  },
  {
   "cell_type": "markdown",
   "metadata": {},
   "source": [
    "*Extração da lista de tags e respetivo número de ocorrências, criando um ficheiro externo com os resultados.*"
   ]
  },
  {
   "cell_type": "code",
   "execution_count": 4,
   "metadata": {},
   "outputs": [],
   "source": [
    "from collections import defaultdict\n",
    "import re\n",
    "\n",
    "# Suponha que o conteúdo do seu arquivo esteja na variável \"conteudo\"\n",
    "conteudo = txt\n",
    "\n",
    "# Encontrar todas as tags no formato \"tag:{nome_da_tag}\"\n",
    "padrao_tags = r'tag:{([^}]*)}'\n",
    "tags_encontradas = re.findall(padrao_tags, conteudo)\n",
    "\n",
    "# Contar o número de ocorrências de cada tag\n",
    "contador_tags = defaultdict(int)\n",
    "for tag in tags_encontradas:\n",
    "    contador_tags[tag] += 1\n",
    "\n",
    "# Criar um arquivo com as tags e o número de ocorrências\n",
    "with open('ocorrencias_tags.txt', 'w') as arquivo_tags:\n",
    "    for tag, ocorrencias in contador_tags.items():\n",
    "        arquivo_tags.write(f\"{tag}: {ocorrencias}\\n\")"
   ]
  },
  {
   "cell_type": "markdown",
   "metadata": {},
   "source": [
    "*Exercício livre: Analisar o sentimento de cada um dos artigos e guardar num ficheiro externo o resultado.*"
   ]
  },
  {
   "cell_type": "code",
   "execution_count": 5,
   "metadata": {},
   "outputs": [
    {
     "name": "stdout",
     "output_type": "stream",
     "text": [
      "Requirement already satisfied: textblob in c:\\users\\gabri\\appdata\\local\\packages\\pythonsoftwarefoundation.python.3.11_qbz5n2kfra8p0\\localcache\\local-packages\\python311\\site-packages (0.17.1)\n",
      "Requirement already satisfied: nltk>=3.1 in c:\\users\\gabri\\appdata\\local\\packages\\pythonsoftwarefoundation.python.3.11_qbz5n2kfra8p0\\localcache\\local-packages\\python311\\site-packages (from textblob) (3.8.1)\n",
      "Requirement already satisfied: click in c:\\users\\gabri\\appdata\\local\\packages\\pythonsoftwarefoundation.python.3.11_qbz5n2kfra8p0\\localcache\\local-packages\\python311\\site-packages (from nltk>=3.1->textblob) (8.1.7)\n",
      "Requirement already satisfied: joblib in c:\\users\\gabri\\appdata\\local\\packages\\pythonsoftwarefoundation.python.3.11_qbz5n2kfra8p0\\localcache\\local-packages\\python311\\site-packages (from nltk>=3.1->textblob) (1.3.2)\n",
      "Requirement already satisfied: regex>=2021.8.3 in c:\\users\\gabri\\appdata\\local\\packages\\pythonsoftwarefoundation.python.3.11_qbz5n2kfra8p0\\localcache\\local-packages\\python311\\site-packages (from nltk>=3.1->textblob) (2023.10.3)\n",
      "Requirement already satisfied: tqdm in c:\\users\\gabri\\appdata\\local\\packages\\pythonsoftwarefoundation.python.3.11_qbz5n2kfra8p0\\localcache\\local-packages\\python311\\site-packages (from nltk>=3.1->textblob) (4.66.1)\n",
      "Requirement already satisfied: colorama in c:\\users\\gabri\\appdata\\local\\packages\\pythonsoftwarefoundation.python.3.11_qbz5n2kfra8p0\\localcache\\local-packages\\python311\\site-packages (from click->nltk>=3.1->textblob) (0.4.6)\n"
     ]
    },
    {
     "name": "stderr",
     "output_type": "stream",
     "text": [
      "\n",
      "[notice] A new release of pip is available: 23.2.1 -> 23.3.1\n",
      "[notice] To update, run: C:\\Users\\gabri\\AppData\\Local\\Microsoft\\WindowsApps\\PythonSoftwareFoundation.Python.3.11_qbz5n2kfra8p0\\python.exe -m pip install --upgrade pip\n"
     ]
    }
   ],
   "source": [
    "! pip install textblob\n",
    "\n",
    "from textblob import TextBlob\n",
    "\n",
    "import re\n",
    "\n",
    "# Função para analisar o sentimento de um texto e retornar um rótulo\n",
    "def rotulo_sentimento(sentimento):\n",
    "    if sentimento > 0.1:\n",
    "        return \"Positivo\"\n",
    "    elif sentimento < -0.1:\n",
    "        return \"Negativo\"\n",
    "    else:\n",
    "        return \"Neutro\"\n",
    "\n",
    "# Função para analisar o sentimento de um texto\n",
    "def analisar_sentimento(texto):\n",
    "    blob = TextBlob(texto)\n",
    "    sentimento = blob.sentiment.polarity\n",
    "    return sentimento\n",
    "\n",
    "# Leitura do arquivo\n",
    "with open('folha.txt', 'r', encoding='utf-8') as arquivo:\n",
    "    conteudo = arquivo.read()\n",
    "\n",
    "# Divisão do conteúdo em artigos\n",
    "artigos = conteudo.split(\"#DATE: [116eb] Redacção F8 —\")[1:]\n",
    "\n",
    "# Criar um novo arquivo para escrever os resultados\n",
    "with open('resultados_sentimento.txt', 'w', encoding='utf-8') as resultado_file:\n",
    "    # Análise de sentimento para cada artigo\n",
    "    for idx, artigo in enumerate(artigos):\n",
    "        data_artigo, texto_artigo = artigo.split('\\n', 1)\n",
    "        sentimento = analisar_sentimento(texto_artigo)\n",
    "        rotulo = rotulo_sentimento(sentimento)\n",
    "\n",
    "        resultado_file.write(f\"Artigo {idx + 1} - Data: {data_artigo.strip()}\\n\")\n",
    "        resultado_file.write(f\"Sentimento: {rotulo}\\n\\n\")"
   ]
  }
 ],
 "metadata": {
  "kernelspec": {
   "display_name": "Python 3",
   "language": "python",
   "name": "python3"
  },
  "language_info": {
   "codemirror_mode": {
    "name": "ipython",
    "version": 3
   },
   "file_extension": ".py",
   "mimetype": "text/x-python",
   "name": "python",
   "nbconvert_exporter": "python",
   "pygments_lexer": "ipython3",
   "version": "3.11.6"
  }
 },
 "nbformat": 4,
 "nbformat_minor": 2
}
